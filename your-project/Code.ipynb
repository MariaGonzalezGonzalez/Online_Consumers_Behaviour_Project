{
 "cells": [
  {
   "cell_type": "markdown",
   "metadata": {},
   "source": [
    "#  Online Consumers Behaviour"
   ]
  },
  {
   "cell_type": "markdown",
   "metadata": {},
   "source": [
    "1. [Import The Libraries](#Import-The-Libraries)\n",
    "2. [Importing The Data For February And March 2020](#Importing-The-Data-For-February-And-March-2020)\n",
    "3. [Tableau DataSet](#Tableau-DataSet)\n",
    "4. [Top 10 Brands Used Online February vs March](#Top-10-Brands-Used-Online-February-vs-March)\n",
    "5. [Top 10 categories of products February vs March ](#Top-10-categories-of-products-February-vs-March)\n",
    "6. [The Most Demanded Smartphone Brands](#The-Most-Demanded-Smartphone-Brands)\n",
    "7. [Smartphone Prices February vs March ](#Smartphone-Prices-February-vs-March)\n",
    "8. [Top 5 Smartphone brands February Vs March](#Top-5-Smartphone-brands-February-Vs-March)\n",
    "9. [Top 10 Brands more demanded at the time of buying Smartphones](#Top-10-Brands-more-demanded-at-the-time-of-buying-Smartphones)\n",
    "10. [Brands which consumer visit, add to cart or purchases more](#Brands-which-consumer-visit,-add-to-cart-or-purchases-more)\n",
    "11. [Top 10 Most Viewed Brands Online](#Top-10-Most-Viewed-Brands-Online)\n",
    "12. [Top 10  Brands Most Added To Cart Online](#Top-10-Brands-Most-Added-To-Cart-Online)\n",
    "13. [The 10  Most Purchaced Brands  Online](#The-10-Most-Purchaced-Brands-Online)\n",
    "14. [Anova Hypthesis Testing](#Anova-Hypthesis-Testing)\n",
    "15. [Linear Regression: Cart & Purchase](#Linear-Regression:-Cart-&-Purchase)\n",
    "\n"
   ]
  },
  {
   "cell_type": "markdown",
   "metadata": {},
   "source": [
    "## Import The Libraries"
   ]
  },
  {
   "cell_type": "code",
   "execution_count": 79,
   "metadata": {},
   "outputs": [],
   "source": [
    "import pandas as pd\n",
    "import seaborn as sns\n",
    "import scipy.stats as stats\n",
    "import numpy as np\n",
    "import matplotlib.pyplot as plt\n",
    "%matplotlib inline"
   ]
  },
  {
   "cell_type": "markdown",
   "metadata": {},
   "source": [
    "## Importing The Data For February And March 2020"
   ]
  },
  {
   "cell_type": "code",
   "execution_count": 3,
   "metadata": {},
   "outputs": [
    {
     "data": {
      "text/html": [
       "<div>\n",
       "<style scoped>\n",
       "    .dataframe tbody tr th:only-of-type {\n",
       "        vertical-align: middle;\n",
       "    }\n",
       "\n",
       "    .dataframe tbody tr th {\n",
       "        vertical-align: top;\n",
       "    }\n",
       "\n",
       "    .dataframe thead th {\n",
       "        text-align: right;\n",
       "    }\n",
       "</style>\n",
       "<table border=\"1\" class=\"dataframe\">\n",
       "  <thead>\n",
       "    <tr style=\"text-align: right;\">\n",
       "      <th></th>\n",
       "      <th>event_time</th>\n",
       "      <th>event_type</th>\n",
       "      <th>product_id</th>\n",
       "      <th>category_id</th>\n",
       "      <th>category_code</th>\n",
       "      <th>brand</th>\n",
       "      <th>price</th>\n",
       "      <th>user_id</th>\n",
       "      <th>user_session</th>\n",
       "    </tr>\n",
       "  </thead>\n",
       "  <tbody>\n",
       "    <tr>\n",
       "      <th>1</th>\n",
       "      <td>2020-02-01 00:00:00 UTC</td>\n",
       "      <td>view</td>\n",
       "      <td>100071077</td>\n",
       "      <td>2232732079706079299</td>\n",
       "      <td>sport.bicycle</td>\n",
       "      <td>crown</td>\n",
       "      <td>11.88</td>\n",
       "      <td>596313635</td>\n",
       "      <td>3df590c0-e667-4f5a-aa87-f47749cd6408</td>\n",
       "    </tr>\n",
       "    <tr>\n",
       "      <th>2</th>\n",
       "      <td>2020-02-01 00:00:00 UTC</td>\n",
       "      <td>view</td>\n",
       "      <td>1004665</td>\n",
       "      <td>2232732093077520756</td>\n",
       "      <td>construction.tools.light</td>\n",
       "      <td>samsung</td>\n",
       "      <td>838.23</td>\n",
       "      <td>608821035</td>\n",
       "      <td>3e271f43-db51-46bd-b215-c2907ed1a204</td>\n",
       "    </tr>\n",
       "    <tr>\n",
       "      <th>3</th>\n",
       "      <td>2020-02-01 00:00:01 UTC</td>\n",
       "      <td>view</td>\n",
       "      <td>1002544</td>\n",
       "      <td>2232732093077520756</td>\n",
       "      <td>construction.tools.light</td>\n",
       "      <td>apple</td>\n",
       "      <td>410.42</td>\n",
       "      <td>530488542</td>\n",
       "      <td>21f46782-fb36-4d5c-82d4-6dc26ae93fad</td>\n",
       "    </tr>\n",
       "    <tr>\n",
       "      <th>4</th>\n",
       "      <td>2020-02-01 00:00:01 UTC</td>\n",
       "      <td>view</td>\n",
       "      <td>100010151</td>\n",
       "      <td>2053013563835941749</td>\n",
       "      <td>appliances.kitchen.refrigerators</td>\n",
       "      <td>pulser</td>\n",
       "      <td>332.03</td>\n",
       "      <td>583795643</td>\n",
       "      <td>eddfe0e2-12f8-4357-b453-00786c9b0319</td>\n",
       "    </tr>\n",
       "    <tr>\n",
       "      <th>5</th>\n",
       "      <td>2020-02-01 00:00:02 UTC</td>\n",
       "      <td>view</td>\n",
       "      <td>5000108</td>\n",
       "      <td>2232732102950912587</td>\n",
       "      <td>appliances.sewing_machine</td>\n",
       "      <td>janome</td>\n",
       "      <td>127.56</td>\n",
       "      <td>513854134</td>\n",
       "      <td>d2e0ec81-b785-48f8-9d7c-29214c5015ad</td>\n",
       "    </tr>\n",
       "    <tr>\n",
       "      <th>...</th>\n",
       "      <td>...</td>\n",
       "      <td>...</td>\n",
       "      <td>...</td>\n",
       "      <td>...</td>\n",
       "      <td>...</td>\n",
       "      <td>...</td>\n",
       "      <td>...</td>\n",
       "      <td>...</td>\n",
       "      <td>...</td>\n",
       "    </tr>\n",
       "    <tr>\n",
       "      <th>55318560</th>\n",
       "      <td>2020-02-29 23:59:57 UTC</td>\n",
       "      <td>view</td>\n",
       "      <td>100118024</td>\n",
       "      <td>2232732099436085763</td>\n",
       "      <td>construction.tools.welding</td>\n",
       "      <td>a-case</td>\n",
       "      <td>1.93</td>\n",
       "      <td>519011545</td>\n",
       "      <td>57732f68-9928-47ff-bf88-09a7767fe86c</td>\n",
       "    </tr>\n",
       "    <tr>\n",
       "      <th>55318561</th>\n",
       "      <td>2020-02-29 23:59:58 UTC</td>\n",
       "      <td>view</td>\n",
       "      <td>12200332</td>\n",
       "      <td>2053013553325015316</td>\n",
       "      <td>appliances.kitchen.toster</td>\n",
       "      <td>phoenix</td>\n",
       "      <td>77.20</td>\n",
       "      <td>540823940</td>\n",
       "      <td>f7c7cdc5-5952-4337-8f3d-1afdb5457c9f</td>\n",
       "    </tr>\n",
       "    <tr>\n",
       "      <th>55318562</th>\n",
       "      <td>2020-02-29 23:59:58 UTC</td>\n",
       "      <td>view</td>\n",
       "      <td>6902464</td>\n",
       "      <td>2232732078733000751</td>\n",
       "      <td>electronics.telephone</td>\n",
       "      <td>zlatek</td>\n",
       "      <td>49.91</td>\n",
       "      <td>531574188</td>\n",
       "      <td>48714293-b3f9-4946-8135-eb1ea05ead74</td>\n",
       "    </tr>\n",
       "    <tr>\n",
       "      <th>55318563</th>\n",
       "      <td>2020-02-29 23:59:59 UTC</td>\n",
       "      <td>view</td>\n",
       "      <td>100103966</td>\n",
       "      <td>2053013560530830019</td>\n",
       "      <td>electronics.camera.video</td>\n",
       "      <td>bq</td>\n",
       "      <td>10.77</td>\n",
       "      <td>614934914</td>\n",
       "      <td>71920ba0-0e94-4f73-b7ae-e5e411d6765f</td>\n",
       "    </tr>\n",
       "    <tr>\n",
       "      <th>55318564</th>\n",
       "      <td>2020-02-29 23:59:59 UTC</td>\n",
       "      <td>view</td>\n",
       "      <td>16000659</td>\n",
       "      <td>2053013556856619499</td>\n",
       "      <td>accessories.bag</td>\n",
       "      <td>gipfel</td>\n",
       "      <td>129.19</td>\n",
       "      <td>622090611</td>\n",
       "      <td>d2241bd8-e2a5-4bdf-9591-57483a2da8ee</td>\n",
       "    </tr>\n",
       "  </tbody>\n",
       "</table>\n",
       "<p>42937413 rows × 9 columns</p>\n",
       "</div>"
      ],
      "text/plain": [
       "                       event_time event_type  product_id          category_id  \\\n",
       "1         2020-02-01 00:00:00 UTC       view   100071077  2232732079706079299   \n",
       "2         2020-02-01 00:00:00 UTC       view     1004665  2232732093077520756   \n",
       "3         2020-02-01 00:00:01 UTC       view     1002544  2232732093077520756   \n",
       "4         2020-02-01 00:00:01 UTC       view   100010151  2053013563835941749   \n",
       "5         2020-02-01 00:00:02 UTC       view     5000108  2232732102950912587   \n",
       "...                           ...        ...         ...                  ...   \n",
       "55318560  2020-02-29 23:59:57 UTC       view   100118024  2232732099436085763   \n",
       "55318561  2020-02-29 23:59:58 UTC       view    12200332  2053013553325015316   \n",
       "55318562  2020-02-29 23:59:58 UTC       view     6902464  2232732078733000751   \n",
       "55318563  2020-02-29 23:59:59 UTC       view   100103966  2053013560530830019   \n",
       "55318564  2020-02-29 23:59:59 UTC       view    16000659  2053013556856619499   \n",
       "\n",
       "                             category_code    brand   price    user_id  \\\n",
       "1                            sport.bicycle    crown   11.88  596313635   \n",
       "2                 construction.tools.light  samsung  838.23  608821035   \n",
       "3                 construction.tools.light    apple  410.42  530488542   \n",
       "4         appliances.kitchen.refrigerators   pulser  332.03  583795643   \n",
       "5                appliances.sewing_machine   janome  127.56  513854134   \n",
       "...                                    ...      ...     ...        ...   \n",
       "55318560        construction.tools.welding   a-case    1.93  519011545   \n",
       "55318561         appliances.kitchen.toster  phoenix   77.20  540823940   \n",
       "55318562             electronics.telephone   zlatek   49.91  531574188   \n",
       "55318563          electronics.camera.video       bq   10.77  614934914   \n",
       "55318564                   accessories.bag   gipfel  129.19  622090611   \n",
       "\n",
       "                                  user_session  \n",
       "1         3df590c0-e667-4f5a-aa87-f47749cd6408  \n",
       "2         3e271f43-db51-46bd-b215-c2907ed1a204  \n",
       "3         21f46782-fb36-4d5c-82d4-6dc26ae93fad  \n",
       "4         eddfe0e2-12f8-4357-b453-00786c9b0319  \n",
       "5         d2e0ec81-b785-48f8-9d7c-29214c5015ad  \n",
       "...                                        ...  \n",
       "55318560  57732f68-9928-47ff-bf88-09a7767fe86c  \n",
       "55318561  f7c7cdc5-5952-4337-8f3d-1afdb5457c9f  \n",
       "55318562  48714293-b3f9-4946-8135-eb1ea05ead74  \n",
       "55318563  71920ba0-0e94-4f73-b7ae-e5e411d6765f  \n",
       "55318564  d2241bd8-e2a5-4bdf-9591-57483a2da8ee  \n",
       "\n",
       "[42937413 rows x 9 columns]"
      ]
     },
     "execution_count": 3,
     "metadata": {},
     "output_type": "execute_result"
    }
   ],
   "source": [
    "Feb_df = pd.read_csv(\"../data/Feb_2020.csv\")\n",
    "Feb_df.dropna()"
   ]
  },
  {
   "cell_type": "code",
   "execution_count": 4,
   "metadata": {},
   "outputs": [],
   "source": [
    "# ADDING A COLUMN TO THE Feb_df WITH THE CURRENT MONTH\n",
    "Feb_df[\"month\"] = \"February\""
   ]
  },
  {
   "cell_type": "code",
   "execution_count": 5,
   "metadata": {},
   "outputs": [],
   "source": [
    "# IMPORT THE DATA FOR MARCH\n",
    "March_df = pd.read_csv(\"../data/March_2020.csv\")"
   ]
  },
  {
   "cell_type": "code",
   "execution_count": 6,
   "metadata": {},
   "outputs": [
    {
     "data": {
      "text/html": [
       "<div>\n",
       "<style scoped>\n",
       "    .dataframe tbody tr th:only-of-type {\n",
       "        vertical-align: middle;\n",
       "    }\n",
       "\n",
       "    .dataframe tbody tr th {\n",
       "        vertical-align: top;\n",
       "    }\n",
       "\n",
       "    .dataframe thead th {\n",
       "        text-align: right;\n",
       "    }\n",
       "</style>\n",
       "<table border=\"1\" class=\"dataframe\">\n",
       "  <thead>\n",
       "    <tr style=\"text-align: right;\">\n",
       "      <th></th>\n",
       "      <th>event_time</th>\n",
       "      <th>event_type</th>\n",
       "      <th>product_id</th>\n",
       "      <th>category_id</th>\n",
       "      <th>category_code</th>\n",
       "      <th>brand</th>\n",
       "      <th>price</th>\n",
       "      <th>user_id</th>\n",
       "      <th>user_session</th>\n",
       "      <th>month</th>\n",
       "    </tr>\n",
       "  </thead>\n",
       "  <tbody>\n",
       "    <tr>\n",
       "      <th>1</th>\n",
       "      <td>2020-02-01 00:00:00 UTC</td>\n",
       "      <td>view</td>\n",
       "      <td>100071077</td>\n",
       "      <td>2232732079706079299</td>\n",
       "      <td>sport.bicycle</td>\n",
       "      <td>crown</td>\n",
       "      <td>11.88</td>\n",
       "      <td>596313635</td>\n",
       "      <td>3df590c0-e667-4f5a-aa87-f47749cd6408</td>\n",
       "      <td>February</td>\n",
       "    </tr>\n",
       "    <tr>\n",
       "      <th>2</th>\n",
       "      <td>2020-02-01 00:00:00 UTC</td>\n",
       "      <td>view</td>\n",
       "      <td>1004665</td>\n",
       "      <td>2232732093077520756</td>\n",
       "      <td>construction.tools.light</td>\n",
       "      <td>samsung</td>\n",
       "      <td>838.23</td>\n",
       "      <td>608821035</td>\n",
       "      <td>3e271f43-db51-46bd-b215-c2907ed1a204</td>\n",
       "      <td>February</td>\n",
       "    </tr>\n",
       "    <tr>\n",
       "      <th>3</th>\n",
       "      <td>2020-02-01 00:00:01 UTC</td>\n",
       "      <td>view</td>\n",
       "      <td>1002544</td>\n",
       "      <td>2232732093077520756</td>\n",
       "      <td>construction.tools.light</td>\n",
       "      <td>apple</td>\n",
       "      <td>410.42</td>\n",
       "      <td>530488542</td>\n",
       "      <td>21f46782-fb36-4d5c-82d4-6dc26ae93fad</td>\n",
       "      <td>February</td>\n",
       "    </tr>\n",
       "    <tr>\n",
       "      <th>4</th>\n",
       "      <td>2020-02-01 00:00:01 UTC</td>\n",
       "      <td>view</td>\n",
       "      <td>100010151</td>\n",
       "      <td>2053013563835941749</td>\n",
       "      <td>appliances.kitchen.refrigerators</td>\n",
       "      <td>pulser</td>\n",
       "      <td>332.03</td>\n",
       "      <td>583795643</td>\n",
       "      <td>eddfe0e2-12f8-4357-b453-00786c9b0319</td>\n",
       "      <td>February</td>\n",
       "    </tr>\n",
       "    <tr>\n",
       "      <th>5</th>\n",
       "      <td>2020-02-01 00:00:02 UTC</td>\n",
       "      <td>view</td>\n",
       "      <td>5000108</td>\n",
       "      <td>2232732102950912587</td>\n",
       "      <td>appliances.sewing_machine</td>\n",
       "      <td>janome</td>\n",
       "      <td>127.56</td>\n",
       "      <td>513854134</td>\n",
       "      <td>d2e0ec81-b785-48f8-9d7c-29214c5015ad</td>\n",
       "      <td>February</td>\n",
       "    </tr>\n",
       "    <tr>\n",
       "      <th>6</th>\n",
       "      <td>2020-02-01 00:00:02 UTC</td>\n",
       "      <td>view</td>\n",
       "      <td>6501012</td>\n",
       "      <td>2232732103462617687</td>\n",
       "      <td>apparel.shoes.slipons</td>\n",
       "      <td>asrock</td>\n",
       "      <td>46.02</td>\n",
       "      <td>514092189</td>\n",
       "      <td>fcf181e8-56b3-4749-8406-4e9cb4375e2d</td>\n",
       "      <td>February</td>\n",
       "    </tr>\n",
       "    <tr>\n",
       "      <th>7</th>\n",
       "      <td>2020-02-01 00:00:02 UTC</td>\n",
       "      <td>view</td>\n",
       "      <td>15100003</td>\n",
       "      <td>2232732107413652135</td>\n",
       "      <td>apparel.shorts</td>\n",
       "      <td>sv</td>\n",
       "      <td>874.93</td>\n",
       "      <td>588332465</td>\n",
       "      <td>7f5c4c88-4a05-4c62-954b-c9a0e1068301</td>\n",
       "      <td>February</td>\n",
       "    </tr>\n",
       "    <tr>\n",
       "      <th>9</th>\n",
       "      <td>2020-02-01 00:00:02 UTC</td>\n",
       "      <td>view</td>\n",
       "      <td>1005115</td>\n",
       "      <td>2232732093077520756</td>\n",
       "      <td>construction.tools.light</td>\n",
       "      <td>apple</td>\n",
       "      <td>806.61</td>\n",
       "      <td>608822150</td>\n",
       "      <td>50d1339f-561e-41f9-944b-f3571af57b05</td>\n",
       "      <td>February</td>\n",
       "    </tr>\n",
       "    <tr>\n",
       "      <th>11</th>\n",
       "      <td>2020-02-01 00:00:03 UTC</td>\n",
       "      <td>view</td>\n",
       "      <td>1004648</td>\n",
       "      <td>2232732093077520756</td>\n",
       "      <td>construction.tools.light</td>\n",
       "      <td>samsung</td>\n",
       "      <td>563.70</td>\n",
       "      <td>608821035</td>\n",
       "      <td>3e271f43-db51-46bd-b215-c2907ed1a204</td>\n",
       "      <td>February</td>\n",
       "    </tr>\n",
       "    <tr>\n",
       "      <th>12</th>\n",
       "      <td>2020-02-01 00:00:04 UTC</td>\n",
       "      <td>view</td>\n",
       "      <td>28717124</td>\n",
       "      <td>2232732097842250207</td>\n",
       "      <td>apparel.shoes.keds</td>\n",
       "      <td>respect</td>\n",
       "      <td>31.92</td>\n",
       "      <td>512437914</td>\n",
       "      <td>b9244c98-22a1-4c76-9f9f-dfcd11da592a</td>\n",
       "      <td>February</td>\n",
       "    </tr>\n",
       "  </tbody>\n",
       "</table>\n",
       "</div>"
      ],
      "text/plain": [
       "                 event_time event_type  product_id          category_id  \\\n",
       "1   2020-02-01 00:00:00 UTC       view   100071077  2232732079706079299   \n",
       "2   2020-02-01 00:00:00 UTC       view     1004665  2232732093077520756   \n",
       "3   2020-02-01 00:00:01 UTC       view     1002544  2232732093077520756   \n",
       "4   2020-02-01 00:00:01 UTC       view   100010151  2053013563835941749   \n",
       "5   2020-02-01 00:00:02 UTC       view     5000108  2232732102950912587   \n",
       "6   2020-02-01 00:00:02 UTC       view     6501012  2232732103462617687   \n",
       "7   2020-02-01 00:00:02 UTC       view    15100003  2232732107413652135   \n",
       "9   2020-02-01 00:00:02 UTC       view     1005115  2232732093077520756   \n",
       "11  2020-02-01 00:00:03 UTC       view     1004648  2232732093077520756   \n",
       "12  2020-02-01 00:00:04 UTC       view    28717124  2232732097842250207   \n",
       "\n",
       "                       category_code    brand   price    user_id  \\\n",
       "1                      sport.bicycle    crown   11.88  596313635   \n",
       "2           construction.tools.light  samsung  838.23  608821035   \n",
       "3           construction.tools.light    apple  410.42  530488542   \n",
       "4   appliances.kitchen.refrigerators   pulser  332.03  583795643   \n",
       "5          appliances.sewing_machine   janome  127.56  513854134   \n",
       "6              apparel.shoes.slipons   asrock   46.02  514092189   \n",
       "7                     apparel.shorts       sv  874.93  588332465   \n",
       "9           construction.tools.light    apple  806.61  608822150   \n",
       "11          construction.tools.light  samsung  563.70  608821035   \n",
       "12                apparel.shoes.keds  respect   31.92  512437914   \n",
       "\n",
       "                            user_session     month  \n",
       "1   3df590c0-e667-4f5a-aa87-f47749cd6408  February  \n",
       "2   3e271f43-db51-46bd-b215-c2907ed1a204  February  \n",
       "3   21f46782-fb36-4d5c-82d4-6dc26ae93fad  February  \n",
       "4   eddfe0e2-12f8-4357-b453-00786c9b0319  February  \n",
       "5   d2e0ec81-b785-48f8-9d7c-29214c5015ad  February  \n",
       "6   fcf181e8-56b3-4749-8406-4e9cb4375e2d  February  \n",
       "7   7f5c4c88-4a05-4c62-954b-c9a0e1068301  February  \n",
       "9   50d1339f-561e-41f9-944b-f3571af57b05  February  \n",
       "11  3e271f43-db51-46bd-b215-c2907ed1a204  February  \n",
       "12  b9244c98-22a1-4c76-9f9f-dfcd11da592a  February  "
      ]
     },
     "execution_count": 6,
     "metadata": {},
     "output_type": "execute_result"
    }
   ],
   "source": [
    "# ADDING A COLUMN WITH THE CURRENT AND APPENDING BOTH DATAFRAMES FEB AND MARCH\n",
    "March_df[\"month\"] = \"March\"\n",
    "\n",
    "df = Feb_df.append(March_df)\n",
    "df.dropna().head(10)"
   ]
  },
  {
   "cell_type": "markdown",
   "metadata": {},
   "source": [
    "## Tableau DataSet"
   ]
  },
  {
   "cell_type": "code",
   "execution_count": 64,
   "metadata": {},
   "outputs": [],
   "source": [
    "# DUE TO TABLENOU DOES NOT HAVE THE CAPACITY FOR 55 MILLIONS DATA, IT IS NEEDED TO SELECT A RANDOM SAMPLE \n",
    "# NUMBER OF SAMPLES FOR FEB AND ANOTHER FOR MARCH\n",
    "N = 10000"
   ]
  },
  {
   "cell_type": "code",
   "execution_count": 65,
   "metadata": {},
   "outputs": [],
   "source": [
    "# SELECT RANDOM SAMPLES FROM THE DATASET OF FEB AND MARCH  \n",
    "# FEBRUARY\n",
    "Feb_df_Subset = Feb_df[[\"product_id\", \"event_type\", \"category_code\", \"brand\", \"price\", \"event_time\"]]\n",
    "Feb_df_Subset = Feb_df_Subset.sample(N)\n",
    "\n",
    "# MARCH\n",
    "March_df_Subset = March_df[[\"product_id\", \"event_type\", \"category_code\", \"brand\", \"price\", \"event_time\"]]\n",
    "March_df_Subset = March_df_Subset.sample(N)"
   ]
  },
  {
   "cell_type": "code",
   "execution_count": 66,
   "metadata": {},
   "outputs": [],
   "source": [
    "# CLEANING THE TIME AND THE DATE, IN ORDER TO USED IT IN TABLEOU \n",
    "# FEBRUARY\n",
    "Feb_df_Subset[\"time\"] = Feb_df_Subset[\"event_time\"].str.extract(r\"(\\d\\d:\\d\\d:\\d\\d)\")\n",
    "Feb_df_Subset[\"timePlot\"] = Feb_df_Subset[\"event_time\"].str.extract(r\"(\\d\\d:\\d\\d:\\d\\d)\")\n",
    "Feb_df_Subset[\"time\"] = pd.to_numeric(Feb_df_Subset[\"time\"].str.replace(\":\", \"\", regex = True))\n",
    "Feb_df_Subset[\"date\"] = Feb_df_Subset[\"event_time\"].str.extract(r'(\\d\\d-\\d\\d-\\d\\d)').replace(\"-\", \"\", regex = True)\n",
    "Feb_df_Subset[\"datePlot\"] = Feb_df_Subset[\"event_time\"].str.extract(r'(\\d\\d-\\d\\d-\\d\\d)')\n",
    "Feb_df_Subset[\"date\"] = pd.to_numeric(Feb_df_Subset[\"date\"])\n",
    "\n",
    "# MARCH\n",
    "March_df_Subset[\"time\"] = March_df_Subset[\"event_time\"].str.extract(r\"(\\d\\d:\\d\\d:\\d\\d)\")\n",
    "March_df_Subset[\"timePlot\"] = March_df_Subset[\"event_time\"].str.extract(r\"(\\d\\d:\\d\\d:\\d\\d)\")\n",
    "March_df_Subset[\"time\"] = pd.to_numeric(March_df_Subset[\"time\"].str.replace(\":\", \"\", regex = True))\n",
    "March_df_Subset[\"date\"] = March_df_Subset[\"event_time\"].str.extract(r'(\\d\\d-\\d\\d-\\d\\d)').replace(\"-\", \"\", regex = True)\n",
    "March_df_Subset[\"datePlot\"] = March_df_Subset[\"event_time\"].str.extract(r'(\\d\\d-\\d\\d-\\d\\d)')\n",
    "March_df_Subset[\"date\"] = pd.to_numeric(March_df_Subset[\"date\"])"
   ]
  },
  {
   "cell_type": "code",
   "execution_count": 67,
   "metadata": {},
   "outputs": [
    {
     "data": {
      "text/html": [
       "<div>\n",
       "<style scoped>\n",
       "    .dataframe tbody tr th:only-of-type {\n",
       "        vertical-align: middle;\n",
       "    }\n",
       "\n",
       "    .dataframe tbody tr th {\n",
       "        vertical-align: top;\n",
       "    }\n",
       "\n",
       "    .dataframe thead th {\n",
       "        text-align: right;\n",
       "    }\n",
       "</style>\n",
       "<table border=\"1\" class=\"dataframe\">\n",
       "  <thead>\n",
       "    <tr style=\"text-align: right;\">\n",
       "      <th></th>\n",
       "      <th>product_id</th>\n",
       "      <th>event_type</th>\n",
       "      <th>category_code</th>\n",
       "      <th>brand</th>\n",
       "      <th>price</th>\n",
       "      <th>event_time</th>\n",
       "      <th>time</th>\n",
       "      <th>timePlot</th>\n",
       "      <th>date</th>\n",
       "      <th>datePlot</th>\n",
       "      <th>month</th>\n",
       "    </tr>\n",
       "  </thead>\n",
       "  <tbody>\n",
       "    <tr>\n",
       "      <th>30264363</th>\n",
       "      <td>2701385</td>\n",
       "      <td>view</td>\n",
       "      <td>appliances.kitchen.refrigerators</td>\n",
       "      <td>indesit</td>\n",
       "      <td>375.46</td>\n",
       "      <td>2020-02-15 19:02:38 UTC</td>\n",
       "      <td>190238</td>\n",
       "      <td>19:02:38</td>\n",
       "      <td>200215</td>\n",
       "      <td>20-02-15</td>\n",
       "      <td>February</td>\n",
       "    </tr>\n",
       "    <tr>\n",
       "      <th>23377098</th>\n",
       "      <td>100097522</td>\n",
       "      <td>view</td>\n",
       "      <td>apparel.trousers</td>\n",
       "      <td>defacto</td>\n",
       "      <td>10.27</td>\n",
       "      <td>2020-02-12 17:43:15 UTC</td>\n",
       "      <td>174315</td>\n",
       "      <td>17:43:15</td>\n",
       "      <td>200212</td>\n",
       "      <td>20-02-12</td>\n",
       "      <td>February</td>\n",
       "    </tr>\n",
       "    <tr>\n",
       "      <th>25186838</th>\n",
       "      <td>17601990</td>\n",
       "      <td>view</td>\n",
       "      <td>furniture.living_room.sofa</td>\n",
       "      <td>farmstay</td>\n",
       "      <td>10.30</td>\n",
       "      <td>2020-02-13 13:13:49 UTC</td>\n",
       "      <td>131349</td>\n",
       "      <td>13:13:49</td>\n",
       "      <td>200213</td>\n",
       "      <td>20-02-13</td>\n",
       "      <td>February</td>\n",
       "    </tr>\n",
       "    <tr>\n",
       "      <th>39760760</th>\n",
       "      <td>13000020</td>\n",
       "      <td>view</td>\n",
       "      <td>apparel.shorts</td>\n",
       "      <td>logitech</td>\n",
       "      <td>64.86</td>\n",
       "      <td>2020-02-20 07:31:28 UTC</td>\n",
       "      <td>73128</td>\n",
       "      <td>07:31:28</td>\n",
       "      <td>200220</td>\n",
       "      <td>20-02-20</td>\n",
       "      <td>February</td>\n",
       "    </tr>\n",
       "    <tr>\n",
       "      <th>7049827</th>\n",
       "      <td>1005169</td>\n",
       "      <td>view</td>\n",
       "      <td>construction.tools.light</td>\n",
       "      <td>samsung</td>\n",
       "      <td>180.93</td>\n",
       "      <td>2020-02-04 09:37:19 UTC</td>\n",
       "      <td>93719</td>\n",
       "      <td>09:37:19</td>\n",
       "      <td>200204</td>\n",
       "      <td>20-02-04</td>\n",
       "      <td>February</td>\n",
       "    </tr>\n",
       "    <tr>\n",
       "      <th>...</th>\n",
       "      <td>...</td>\n",
       "      <td>...</td>\n",
       "      <td>...</td>\n",
       "      <td>...</td>\n",
       "      <td>...</td>\n",
       "      <td>...</td>\n",
       "      <td>...</td>\n",
       "      <td>...</td>\n",
       "      <td>...</td>\n",
       "      <td>...</td>\n",
       "      <td>...</td>\n",
       "    </tr>\n",
       "    <tr>\n",
       "      <th>5774651</th>\n",
       "      <td>100019984</td>\n",
       "      <td>view</td>\n",
       "      <td>apparel.trousers</td>\n",
       "      <td>iqos</td>\n",
       "      <td>95.24</td>\n",
       "      <td>2020-03-03 11:23:49 UTC</td>\n",
       "      <td>112349</td>\n",
       "      <td>11:23:49</td>\n",
       "      <td>200303</td>\n",
       "      <td>20-03-03</td>\n",
       "      <td>March</td>\n",
       "    </tr>\n",
       "    <tr>\n",
       "      <th>33143616</th>\n",
       "      <td>7700159</td>\n",
       "      <td>view</td>\n",
       "      <td>kids.fmcg.diapers</td>\n",
       "      <td>chicco</td>\n",
       "      <td>128.70</td>\n",
       "      <td>2020-03-15 16:23:28 UTC</td>\n",
       "      <td>162328</td>\n",
       "      <td>16:23:28</td>\n",
       "      <td>200315</td>\n",
       "      <td>20-03-15</td>\n",
       "      <td>March</td>\n",
       "    </tr>\n",
       "    <tr>\n",
       "      <th>39847121</th>\n",
       "      <td>16800027</td>\n",
       "      <td>view</td>\n",
       "      <td>appliances.kitchen.refrigerators</td>\n",
       "      <td>bts</td>\n",
       "      <td>51.22</td>\n",
       "      <td>2020-03-20 15:00:56 UTC</td>\n",
       "      <td>150056</td>\n",
       "      <td>15:00:56</td>\n",
       "      <td>200320</td>\n",
       "      <td>20-03-20</td>\n",
       "      <td>March</td>\n",
       "    </tr>\n",
       "    <tr>\n",
       "      <th>19020986</th>\n",
       "      <td>3700937</td>\n",
       "      <td>view</td>\n",
       "      <td>appliances.environment.vacuum</td>\n",
       "      <td>karcher</td>\n",
       "      <td>257.38</td>\n",
       "      <td>2020-03-08 15:26:25 UTC</td>\n",
       "      <td>152625</td>\n",
       "      <td>15:26:25</td>\n",
       "      <td>200308</td>\n",
       "      <td>20-03-08</td>\n",
       "      <td>March</td>\n",
       "    </tr>\n",
       "    <tr>\n",
       "      <th>45865427</th>\n",
       "      <td>1002995</td>\n",
       "      <td>view</td>\n",
       "      <td>construction.tools.light</td>\n",
       "      <td>apple</td>\n",
       "      <td>411.82</td>\n",
       "      <td>2020-03-24 15:19:30 UTC</td>\n",
       "      <td>151930</td>\n",
       "      <td>15:19:30</td>\n",
       "      <td>200324</td>\n",
       "      <td>20-03-24</td>\n",
       "      <td>March</td>\n",
       "    </tr>\n",
       "  </tbody>\n",
       "</table>\n",
       "<p>15577 rows × 11 columns</p>\n",
       "</div>"
      ],
      "text/plain": [
       "          product_id event_type                     category_code     brand  \\\n",
       "30264363     2701385       view  appliances.kitchen.refrigerators   indesit   \n",
       "23377098   100097522       view                  apparel.trousers   defacto   \n",
       "25186838    17601990       view        furniture.living_room.sofa  farmstay   \n",
       "39760760    13000020       view                    apparel.shorts  logitech   \n",
       "7049827      1005169       view          construction.tools.light   samsung   \n",
       "...              ...        ...                               ...       ...   \n",
       "5774651    100019984       view                  apparel.trousers      iqos   \n",
       "33143616     7700159       view                 kids.fmcg.diapers    chicco   \n",
       "39847121    16800027       view  appliances.kitchen.refrigerators       bts   \n",
       "19020986     3700937       view     appliances.environment.vacuum   karcher   \n",
       "45865427     1002995       view          construction.tools.light     apple   \n",
       "\n",
       "           price               event_time    time  timePlot    date  datePlot  \\\n",
       "30264363  375.46  2020-02-15 19:02:38 UTC  190238  19:02:38  200215  20-02-15   \n",
       "23377098   10.27  2020-02-12 17:43:15 UTC  174315  17:43:15  200212  20-02-12   \n",
       "25186838   10.30  2020-02-13 13:13:49 UTC  131349  13:13:49  200213  20-02-13   \n",
       "39760760   64.86  2020-02-20 07:31:28 UTC   73128  07:31:28  200220  20-02-20   \n",
       "7049827   180.93  2020-02-04 09:37:19 UTC   93719  09:37:19  200204  20-02-04   \n",
       "...          ...                      ...     ...       ...     ...       ...   \n",
       "5774651    95.24  2020-03-03 11:23:49 UTC  112349  11:23:49  200303  20-03-03   \n",
       "33143616  128.70  2020-03-15 16:23:28 UTC  162328  16:23:28  200315  20-03-15   \n",
       "39847121   51.22  2020-03-20 15:00:56 UTC  150056  15:00:56  200320  20-03-20   \n",
       "19020986  257.38  2020-03-08 15:26:25 UTC  152625  15:26:25  200308  20-03-08   \n",
       "45865427  411.82  2020-03-24 15:19:30 UTC  151930  15:19:30  200324  20-03-24   \n",
       "\n",
       "             month  \n",
       "30264363  February  \n",
       "23377098  February  \n",
       "25186838  February  \n",
       "39760760  February  \n",
       "7049827   February  \n",
       "...            ...  \n",
       "5774651      March  \n",
       "33143616     March  \n",
       "39847121     March  \n",
       "19020986     March  \n",
       "45865427     March  \n",
       "\n",
       "[15577 rows x 11 columns]"
      ]
     },
     "execution_count": 67,
     "metadata": {},
     "output_type": "execute_result"
    }
   ],
   "source": [
    "# ADDING A COLUMN TO THE Feb_df WITH THE CURRENT MONTH\n",
    "Feb_df_Subset[\"month\"] = \"February\"\n",
    "# ADDING A COLUMN WITH THE CURRENT AND APPENDING BOTH DATAFRAMES FEB AND MARCH\n",
    "March_df_Subset[\"month\"] = \"March\"\n",
    "\n",
    "df_Subset = Feb_df_Subset.append(March_df_Subset)\n",
    "df_Subset.dropna()"
   ]
  },
  {
   "cell_type": "code",
   "execution_count": 68,
   "metadata": {},
   "outputs": [],
   "source": [
    "# EXPORT FEB AND MARCH DATASET\n",
    "df_Subset.to_csv(\"February_March2020_dataset_Tableau.csv\")\n"
   ]
  },
  {
   "cell_type": "markdown",
   "metadata": {},
   "source": [
    "### Exploring The Data"
   ]
  },
  {
   "cell_type": "code",
   "execution_count": 7,
   "metadata": {},
   "outputs": [
    {
     "data": {
      "text/plain": [
       "month\n",
       "February    163.98\n",
       "March       168.13\n",
       "Name: price, dtype: float64"
      ]
     },
     "execution_count": 7,
     "metadata": {},
     "output_type": "execute_result"
    }
   ],
   "source": [
    "# CALCULATING THE MEDIAN FOR BOTH MONTHS \n",
    "df.groupby(\"month\")[\"price\"].median()"
   ]
  },
  {
   "cell_type": "markdown",
   "metadata": {},
   "source": [
    "### Top 10 Brands Used Online February vs March "
   ]
  },
  {
   "cell_type": "code",
   "execution_count": 8,
   "metadata": {},
   "outputs": [
    {
     "data": {
      "text/plain": [
       "Text(0.5, 1.0, 'Top 10 Brands March')"
      ]
     },
     "execution_count": 8,
     "metadata": {},
     "output_type": "execute_result"
    },
    {
     "data": {
      "image/png": "[encoded data removed]",
      "text/plain": [
       "<Figure size 1008x360 with 2 Axes>"
      ]
     },
     "metadata": {
      "needs_background": "light"
     },
     "output_type": "display_data"
    }
   ],
   "source": [
    "# TOP 10 BRANDS IN NUMBER OF APPS.\n",
    "\n",
    "Feb_plotData = Feb_df.groupby(\"brand\")[\"brand\"].count().sort_values(ascending = False).head(10)\n",
    "\n",
    "Feb_brandCount = pd.DataFrame(data = {\"brand\" : Feb_plotData.keys(), \n",
    "                           \"y\" : Feb_plotData})\n",
    "\n",
    "\n",
    "# TOP 10 CATEGORIES IN NUMBER OF APPS. IN Feb_df \n",
    "Feb_plotData = Feb_df.groupby(\"category_code\")[\"category_code\"].count().sort_values(ascending = False).head(10)\n",
    "\n",
    "Feb_categoryCount = pd.DataFrame(data = {\"category\" : Feb_plotData.keys(), \n",
    "                           \"y\" : Feb_plotData})\n",
    "\n",
    "# TOP 10 BRANDS IN NUMBER OF APPS. IN March_df\n",
    "\n",
    "March_plotData = March_df.groupby(\"brand\")[\"brand\"].count().sort_values(ascending = False).head(10)\n",
    "\n",
    "March_brandCount = pd.DataFrame(data = {\"brand\" : March_plotData.keys(), \n",
    "                           \"y\" : March_plotData})\n",
    "\n",
    "\n",
    "# TOP 10 CATEGORIES IN NUMBER OF APPS. IN March_df \n",
    "March_plotData = March_df.groupby(\"category_code\")[\"category_code\"].count().sort_values(ascending = False).head(10)\n",
    "\n",
    "March_categoryCount = pd.DataFrame(data = {\"category\" : March_plotData.keys(), \n",
    "                           \"y\" : March_plotData})\n",
    "\n",
    "\n",
    "plt.figure(figsize = (14,5))\n",
    "\n",
    "plt.subplot(1,2,1)\n",
    "sns.barplot(y = \"brand\", x = \"y\", data = Feb_brandCount, palette = (\"magma\")).set_title(\"Top 10 Brands February\")\n",
    "\n",
    "\n",
    "plt.subplot(1,2,2)\n",
    "sns.barplot(y = \"brand\", x = \"y\", data = March_brandCount, palette = (\"magma\")).set_title(\"Top 10 Brands March\")\n"
   ]
  },
  {
   "cell_type": "markdown",
   "metadata": {},
   "source": [
    "### Top 10 categories of products February vs March "
   ]
  },
  {
   "cell_type": "code",
   "execution_count": 9,
   "metadata": {},
   "outputs": [
    {
     "data": {
      "text/plain": [
       "Text(0.5, 1.0, 'TOP 10 CATEGORIES MARCH')"
      ]
     },
     "execution_count": 9,
     "metadata": {},
     "output_type": "execute_result"
    },
    {
     "data": {
      "image/png": "[encoded data removed]",
      "text/plain": [
       "<Figure size 576x720 with 2 Axes>"
      ]
     },
     "metadata": {
      "needs_background": "light"
     },
     "output_type": "display_data"
    }
   ],
   "source": [
    "# PLOT WITH THE 10TOP CATEGORY Feb_df vs March_df \n",
    "\n",
    "plt.figure(figsize = (8,10))\n",
    "\n",
    "plt.subplot(2,1,1)\n",
    "\n",
    "sns.barplot(y = \"category\", x = \"y\", data = Feb_categoryCount, palette = \"Spectral\").set_title(\"TOP 10 CATEGORIES FEBRUARY\")\n",
    "\n",
    "plt.subplot(2,1,2)\n",
    "sns.barplot(y = \"category\", x = \"y\", data = March_categoryCount, palette = \"Spectral\").set_title(\"TOP 10 CATEGORIES MARCH\")"
   ]
  },
  {
   "cell_type": "markdown",
   "metadata": {},
   "source": [
    "### The Most Demanded Smartphone Brands"
   ]
  },
  {
   "cell_type": "code",
   "execution_count": 10,
   "metadata": {},
   "outputs": [
    {
     "name": "stdout",
     "output_type": "stream",
     "text": [
      "brand\n",
      "samsung      79447\n",
      "xiaomi       28315\n",
      "huawei        8162\n",
      "apple         6469\n",
      "sony          2783\n",
      "             ...  \n",
      "leeco            2\n",
      "yotrix           1\n",
      "blackview        1\n",
      "smtt             1\n",
      "toto             1\n",
      "Name: brand, Length: 61, dtype: int64\n"
     ]
    },
    {
     "data": {
      "text/plain": [
       "brand\n",
       "google        874.93\n",
       "oneplus       679.55\n",
       "vivo          411.83\n",
       "blackberry    411.59\n",
       "honor         368.07\n",
       "               ...  \n",
       "deppa           5.38\n",
       "smtt            5.12\n",
       "usams           5.12\n",
       "a-case          3.84\n",
       "kisswill        1.81\n",
       "Name: price, Length: 61, dtype: float64"
      ]
     },
     "execution_count": 10,
     "metadata": {},
     "output_type": "execute_result"
    }
   ],
   "source": [
    "# SEARCHING INTO THE DATA SMARTPHONE\n",
    "print(Feb_df[Feb_df[\"category_code\"] == \"electronics.smartphone\"].groupby(\"brand\")[\"brand\"].count().sort_values(ascending = False))\n",
    "\n",
    "Feb_df[Feb_df[\"category_code\"] == \"electronics.smartphone\"].groupby(\"brand\")[\"price\"].mean().sort_values(ascending = False)\n",
    "Feb_df[Feb_df[\"category_code\"] == \"electronics.smartphone\"].groupby(\"brand\")[\"price\"].median().sort_values(ascending = False)"
   ]
  },
  {
   "cell_type": "code",
   "execution_count": 11,
   "metadata": {},
   "outputs": [
    {
     "name": "stdout",
     "output_type": "stream",
     "text": [
      "product_id\n",
      "1002633      2513\n",
      "1002634      1121\n",
      "1002629      1022\n",
      "1002536       476\n",
      "1002628       238\n",
      "1003064       238\n",
      "100038678     122\n",
      "100038635     118\n",
      "1005209       116\n",
      "100068230      44\n",
      "Name: product_id, dtype: int64\n"
     ]
    },
    {
     "data": {
      "text/html": [
       "<div>\n",
       "<style scoped>\n",
       "    .dataframe tbody tr th:only-of-type {\n",
       "        vertical-align: middle;\n",
       "    }\n",
       "\n",
       "    .dataframe tbody tr th {\n",
       "        vertical-align: top;\n",
       "    }\n",
       "\n",
       "    .dataframe thead th {\n",
       "        text-align: right;\n",
       "    }\n",
       "</style>\n",
       "<table border=\"1\" class=\"dataframe\">\n",
       "  <thead>\n",
       "    <tr style=\"text-align: right;\">\n",
       "      <th></th>\n",
       "      <th>price</th>\n",
       "    </tr>\n",
       "    <tr>\n",
       "      <th>product_id</th>\n",
       "      <th></th>\n",
       "    </tr>\n",
       "  </thead>\n",
       "  <tbody>\n",
       "    <tr>\n",
       "      <th>1002536</th>\n",
       "      <td>591.75</td>\n",
       "    </tr>\n",
       "    <tr>\n",
       "      <th>1003064</th>\n",
       "      <td>424.72</td>\n",
       "    </tr>\n",
       "    <tr>\n",
       "      <th>1005209</th>\n",
       "      <td>386.08</td>\n",
       "    </tr>\n",
       "    <tr>\n",
       "      <th>100068230</th>\n",
       "      <td>385.85</td>\n",
       "    </tr>\n",
       "    <tr>\n",
       "      <th>1002628</th>\n",
       "      <td>384.54</td>\n",
       "    </tr>\n",
       "    <tr>\n",
       "      <th>1002634</th>\n",
       "      <td>384.54</td>\n",
       "    </tr>\n",
       "    <tr>\n",
       "      <th>1002629</th>\n",
       "      <td>360.11</td>\n",
       "    </tr>\n",
       "    <tr>\n",
       "      <th>1002633</th>\n",
       "      <td>360.11</td>\n",
       "    </tr>\n",
       "    <tr>\n",
       "      <th>100038635</th>\n",
       "      <td>348.79</td>\n",
       "    </tr>\n",
       "    <tr>\n",
       "      <th>100038678</th>\n",
       "      <td>348.79</td>\n",
       "    </tr>\n",
       "  </tbody>\n",
       "</table>\n",
       "</div>"
      ],
      "text/plain": [
       "             price\n",
       "product_id        \n",
       "1002536     591.75\n",
       "1003064     424.72\n",
       "1005209     386.08\n",
       "100068230   385.85\n",
       "1002628     384.54\n",
       "1002634     384.54\n",
       "1002629     360.11\n",
       "1002633     360.11\n",
       "100038635   348.79\n",
       "100038678   348.79"
      ]
     },
     "execution_count": 11,
     "metadata": {},
     "output_type": "execute_result"
    }
   ],
   "source": [
    "# SEARCH INTO THE TOP 10 APPLE SMARTPHONE FEB_2019\n",
    "Feb_dataApple = Feb_df[(Feb_df[\"category_code\"] == \"electronics.smartphone\") & (Feb_df[\"brand\"] == \"apple\")]\n",
    "Feb_topTenApple = Feb_dataApple.groupby(\"product_id\")[\"product_id\"].count().sort_values(ascending = False).head(10)\n",
    "print(Feb_topTenApple)\n",
    "\n",
    "# SEARCH INTO THE PRICE OF THE TOP 10 APPLE SMARTPHONE \n",
    "Feb_df[Feb_df[\"product_id\"].isin(Feb_topTenApple.index)][[\"product_id\", \"price\"]].groupby(\"product_id\").first().sort_values(by = \"price\", ascending = False)"
   ]
  },
  {
   "cell_type": "markdown",
   "metadata": {},
   "source": [
    "#### Smartphone Prices February vs March "
   ]
  },
  {
   "cell_type": "code",
   "execution_count": 12,
   "metadata": {},
   "outputs": [
    {
     "name": "stderr",
     "output_type": "stream",
     "text": [
      "/opt/anaconda3/lib/python3.8/site-packages/seaborn/distributions.py:2551: FutureWarning: `distplot` is a deprecated function and will be removed in a future version. Please adapt your code to use either `displot` (a figure-level function with similar flexibility) or `histplot` (an axes-level function for histograms).\n",
      "  warnings.warn(msg, FutureWarning)\n",
      "/opt/anaconda3/lib/python3.8/site-packages/seaborn/distributions.py:2551: FutureWarning: `distplot` is a deprecated function and will be removed in a future version. Please adapt your code to use either `displot` (a figure-level function with similar flexibility) or `histplot` (an axes-level function for histograms).\n",
      "  warnings.warn(msg, FutureWarning)\n"
     ]
    },
    {
     "data": {
      "image/png": "[encoded data removed]",
      "text/plain": [
       "<Figure size 864x360 with 2 Axes>"
      ]
     },
     "metadata": {
      "needs_background": "light"
     },
     "output_type": "display_data"
    }
   ],
   "source": [
    "# PLOT ELECTRONICS SMARTPHONE FEB 2020 and MARCH 2020 AND THEIR PRICES\n",
    "\n",
    "plt.figure(figsize = (12,5))\n",
    "\n",
    "plt.subplot(1,2,1)\n",
    "sns.distplot(Feb_df[Feb_df[\"category_code\"] == \"electronics.smartphone\"][\"price\"], color = \"rebeccapurple\").set_title(\"SMARTPHONE PRICES FEBRUARY 2020\");\n",
    "\n",
    "plt.subplot(1,2,2)\n",
    "sns.distplot(March_df[March_df[\"category_code\"] == \"electronics.smartphone\"][\"price\"], color = \"rebeccapurple\").set_title(\"SMARTPHONE PRICES MARCH 2020\");\n",
    "\n"
   ]
  },
  {
   "cell_type": "markdown",
   "metadata": {},
   "source": [
    "#### Top 5 Smartphone brands February Vs March"
   ]
  },
  {
   "cell_type": "markdown",
   "metadata": {},
   "source": [
    "##### February"
   ]
  },
  {
   "cell_type": "code",
   "execution_count": 13,
   "metadata": {},
   "outputs": [
    {
     "data": {
      "text/plain": [
       "<seaborn.axisgrid.FacetGrid at 0x7fc2d3352eb0>"
      ]
     },
     "execution_count": 13,
     "metadata": {},
     "output_type": "execute_result"
    },
    {
     "data": {
      "image/png": "[encoded data removed]",
      "text/plain": [
       "<Figure size 440.25x360 with 1 Axes>"
      ]
     },
     "metadata": {
      "needs_background": "light"
     },
     "output_type": "display_data"
    }
   ],
   "source": [
    "# TOP 5 BRANDS ONLINE  FEB VS MARCH \n",
    "\n",
    "\n",
    "Feb_df_top5phoneBrands = Feb_df[Feb_df[\"category_code\"] == \"electronics.smartphone\"].groupby(\"brand\")[\"brand\"].count().sort_values(ascending = False).head(5)\n",
    "\n",
    "Feb_df_top5 = Feb_df[Feb_df[\"brand\"].isin(Feb_df_top5phoneBrands.index)]\n",
    "\n",
    "sns.catplot(y=\"brand\", x=\"price\", hue=\"month\", kind=\"box\", data = Feb_df_top5)\n"
   ]
  },
  {
   "cell_type": "markdown",
   "metadata": {},
   "source": [
    "##### Another Observation..."
   ]
  },
  {
   "cell_type": "code",
   "execution_count": 14,
   "metadata": {},
   "outputs": [
    {
     "data": {
      "text/plain": [
       "<seaborn.axisgrid.FacetGrid at 0x7fc2d2cb36d0>"
      ]
     },
     "execution_count": 14,
     "metadata": {},
     "output_type": "execute_result"
    },
    {
     "data": {
      "image/png": "[encoded data removed]",
      "text/plain": [
       "<Figure size 440.25x360 with 1 Axes>"
      ]
     },
     "metadata": {
      "needs_background": "light"
     },
     "output_type": "display_data"
    }
   ],
   "source": [
    "# ANOTHER WAY TO OBSERVE THE TOP 5 MOST PURCHASED BRANDS ONLINE FEBRUARY\n",
    "sns.catplot(x=\"price\", y=\"brand\", hue=\"month\",\n",
    "            kind=\"violin\", data=Feb_df_top5)"
   ]
  },
  {
   "cell_type": "markdown",
   "metadata": {},
   "source": [
    "##### March"
   ]
  },
  {
   "cell_type": "code",
   "execution_count": 15,
   "metadata": {},
   "outputs": [
    {
     "data": {
      "text/plain": [
       "<seaborn.axisgrid.FacetGrid at 0x7fc3f1cab8b0>"
      ]
     },
     "execution_count": 15,
     "metadata": {},
     "output_type": "execute_result"
    },
    {
     "data": {
      "image/png": "[encoded data removed]",
      "text/plain": [
       "<Figure size 426.5x360 with 1 Axes>"
      ]
     },
     "metadata": {
      "needs_background": "light"
     },
     "output_type": "display_data"
    }
   ],
   "source": [
    "# THE TOP 10 MOST PURCHASED BRANDS ONLINE MARCH\n",
    "\n",
    "March_df_top5phoneBrands = March_df[March_df[\"category_code\"] == \"electronics.smartphone\"].groupby(\"brand\")[\"brand\"].count().sort_values(ascending = False).head(5)\n",
    "\n",
    "March_df_top5 = March_df[March_df[\"brand\"].isin(March_df_top5phoneBrands.index)]\n",
    "sns.catplot(y=\"brand\", x=\"price\", hue=\"month\", kind=\"box\", data = March_df_top5)"
   ]
  },
  {
   "cell_type": "markdown",
   "metadata": {},
   "source": [
    "##### Another way...."
   ]
  },
  {
   "cell_type": "code",
   "execution_count": 16,
   "metadata": {},
   "outputs": [
    {
     "data": {
      "text/plain": [
       "<seaborn.axisgrid.FacetGrid at 0x7fc2d2cf4640>"
      ]
     },
     "execution_count": 16,
     "metadata": {},
     "output_type": "execute_result"
    },
    {
     "data": {
      "image/png": "[encoded data removed]",
      "text/plain": [
       "<Figure size 426.5x360 with 1 Axes>"
      ]
     },
     "metadata": {
      "needs_background": "light"
     },
     "output_type": "display_data"
    }
   ],
   "source": [
    "# ANOTHER WAY TO OBSERVE THE TOP 10 MOST PURCHASED BRANDS ONLINE MARCH \n",
    "\n",
    "sns.catplot(x=\"price\", y=\"brand\", hue=\"month\",\n",
    "            kind=\"violin\", data=March_df_top5)"
   ]
  },
  {
   "cell_type": "markdown",
   "metadata": {},
   "source": [
    "## Top 10 Brands more demanded at the time of buying Smartphones"
   ]
  },
  {
   "cell_type": "code",
   "execution_count": 17,
   "metadata": {},
   "outputs": [
    {
     "name": "stderr",
     "output_type": "stream",
     "text": [
      "/opt/anaconda3/lib/python3.8/site-packages/pandas/core/frame.py:3990: SettingWithCopyWarning: \n",
      "A value is trying to be set on a copy of a slice from a DataFrame\n",
      "\n",
      "See the caveats in the documentation: https://pandas.pydata.org/pandas-docs/stable/user_guide/indexing.html#returning-a-view-versus-a-copy\n",
      "  return super().drop(\n"
     ]
    }
   ],
   "source": [
    "# CREATE A NEW DATAFRAME IN ORDER TO ANALICE THE SMARTPHONES FEB VS MARCH\n",
    "\n",
    "# FEB \n",
    "Feb_new_df = Feb_df[Feb_df[\"category_code\"] == \"electronics.smartphone\"]\n",
    "Feb_new_df.drop([\"user_session\", \"category_id\", \"user_id\"], axis = 1, inplace = True)\n",
    "\n",
    "#MARCH\n",
    "March_new_df = March_df[March_df[\"category_code\"] == \"electronics.smartphone\"]\n",
    "March_new_df.drop([\"user_session\", \"category_id\", \"user_id\"], axis = 1, inplace = True)"
   ]
  },
  {
   "cell_type": "markdown",
   "metadata": {},
   "source": [
    "### Top 10 Brands more demanded at the time of buying Smartphones February"
   ]
  },
  {
   "cell_type": "code",
   "execution_count": 18,
   "metadata": {},
   "outputs": [
    {
     "data": {
      "text/plain": [
       "<seaborn.axisgrid.FacetGrid at 0x7fc2d3513af0>"
      ]
     },
     "execution_count": 18,
     "metadata": {},
     "output_type": "execute_result"
    },
    {
     "data": {
      "image/png": "[encoded data removed]",
      "text/plain": [
       "<Figure size 360x360 with 1 Axes>"
      ]
     },
     "metadata": {
      "needs_background": "light"
     },
     "output_type": "display_data"
    }
   ],
   "source": [
    "# SELEC THE TOP 10 BRANDS GROUPING BY THE TYPE OF EVENT \n",
    "#FEB (TOP 3 XIAOMI, HUAWEI AND APPLE)\n",
    "Feb_brandEvent = Feb_new_df.groupby([\"brand\", \"event_type\"])[\"event_type\"].count().sort_values(ascending = False).unstack()\n",
    "Feb_topPurchses = Feb_brandEvent.sort_values(by = \"purchase\", ascending = False).head(10)\n",
    "Feb_topPurchses.reset_index(inplace=True)\n",
    "\n",
    "sns.catplot(y=\"brand\", x=\"purchase\", kind=\"bar\", data = Feb_topPurchses.sort_values(by = \"purchase\", ascending = False), palette=\"viridis\")\n"
   ]
  },
  {
   "cell_type": "markdown",
   "metadata": {},
   "source": [
    "### Top 10 Brands more demanded at the time of buying Smartphones March"
   ]
  },
  {
   "cell_type": "code",
   "execution_count": 19,
   "metadata": {},
   "outputs": [
    {
     "data": {
      "text/plain": [
       "<seaborn.axisgrid.FacetGrid at 0x7fc2d2cf4190>"
      ]
     },
     "execution_count": 19,
     "metadata": {},
     "output_type": "execute_result"
    },
    {
     "data": {
      "image/png": "[encoded data removed]",
      "text/plain": [
       "<Figure size 360x360 with 1 Axes>"
      ]
     },
     "metadata": {
      "needs_background": "light"
     },
     "output_type": "display_data"
    }
   ],
   "source": [
    "#MARCH (TOP 3 XIAOMI, SAMSUNG AND HUAWEI)\n",
    "March_brandEvent = March_new_df.groupby([\"brand\", \"event_type\"])[\"event_type\"].count().sort_values(ascending = False).unstack()\n",
    "March_topPurchses = March_brandEvent.sort_values(by = \"purchase\", ascending = False).head(10)\n",
    "March_topPurchses.reset_index(inplace=True)\n",
    "\n",
    "\n",
    "sns.catplot(y=\"brand\", x=\"purchase\", kind=\"bar\", data = March_topPurchses.sort_values(by = \"purchase\", ascending = False), palette=\"viridis\")\n"
   ]
  },
  {
   "cell_type": "markdown",
   "metadata": {},
   "source": [
    "#### Comparing The 3 More Expenvise Brands:  Apple, Samsung and Xiaomi"
   ]
  },
  {
   "cell_type": "code",
   "execution_count": 20,
   "metadata": {},
   "outputs": [
    {
     "data": {
      "text/plain": [
       "<seaborn.axisgrid.FacetGrid at 0x7fc2d2ccf400>"
      ]
     },
     "execution_count": 20,
     "metadata": {},
     "output_type": "execute_result"
    },
    {
     "data": {
      "image/png": "[encoded data removed]",
      "text/plain": [
       "<Figure size 360x360 with 1 Axes>"
      ]
     },
     "metadata": {
      "needs_background": "light"
     },
     "output_type": "display_data"
    }
   ],
   "source": [
    "# PRICE COMPARING THE 3 MORE EXPENSIVE BRANDS SAMSUNG, APPLE AND XIAOMI\n",
    "\n",
    "samsung_apple_xiaomi = df[(df[\"brand\"] == \"apple\") | (df[\"brand\"] == \"samsung\") | (df[\"brand\"] == \"xiaomi\")]\n",
    "sns.displot(samsung_apple_xiaomi, x=\"price\", y=\"brand\", color = \"skyblue\")"
   ]
  },
  {
   "cell_type": "markdown",
   "metadata": {},
   "source": [
    "## Brands which consumer visit, add to cart or purchases more"
   ]
  },
  {
   "cell_type": "code",
   "execution_count": 21,
   "metadata": {},
   "outputs": [
    {
     "name": "stderr",
     "output_type": "stream",
     "text": [
      "/opt/anaconda3/lib/python3.8/site-packages/pandas/core/frame.py:3990: SettingWithCopyWarning: \n",
      "A value is trying to be set on a copy of a slice from a DataFrame\n",
      "\n",
      "See the caveats in the documentation: https://pandas.pydata.org/pandas-docs/stable/user_guide/indexing.html#returning-a-view-versus-a-copy\n",
      "  return super().drop(\n"
     ]
    }
   ],
   "source": [
    "# CREATE A NEW DATAFRAME \n",
    "new_df = df[df[\"category_code\"] == \"electronics.smartphone\"]\n",
    "new_df.drop([\"user_session\", \"category_id\", \"user_id\"], axis = 1, inplace = True)\n",
    "brandEvent = new_df.groupby([\"brand\", \"event_type\"])[\"event_type\"].count().sort_values(ascending = False).unstack()\n",
    "topPurchses = brandEvent.sort_values(by = \"purchase\", ascending = False).head(10)\n",
    "topPurchses.reset_index(inplace=True)"
   ]
  },
  {
   "cell_type": "markdown",
   "metadata": {},
   "source": [
    "### Top 10 Most Viewed Brands Online"
   ]
  },
  {
   "cell_type": "code",
   "execution_count": 22,
   "metadata": {},
   "outputs": [
    {
     "data": {
      "text/plain": [
       "<seaborn.axisgrid.FacetGrid at 0x7fc2d32e2340>"
      ]
     },
     "execution_count": 22,
     "metadata": {},
     "output_type": "execute_result"
    },
    {
     "data": {
      "image/png": "[encoded data removed]",
      "text/plain": [
       "<Figure size 360x360 with 1 Axes>"
      ]
     },
     "metadata": {
      "needs_background": "light"
     },
     "output_type": "display_data"
    }
   ],
   "source": [
    "# TOP 10 VIEW ELECTRONIC SMARTPHONE \n",
    "\n",
    "sns.catplot(y=\"brand\", x=\"view\", kind=\"bar\", data = topPurchses.sort_values(by = \"view\", ascending = False), palette= \"flare\")"
   ]
  },
  {
   "cell_type": "markdown",
   "metadata": {},
   "source": [
    "### Top 10  Brands Most Added To Cart Online"
   ]
  },
  {
   "cell_type": "code",
   "execution_count": 23,
   "metadata": {},
   "outputs": [
    {
     "data": {
      "text/plain": [
       "<seaborn.axisgrid.FacetGrid at 0x7fc2d32e2820>"
      ]
     },
     "execution_count": 23,
     "metadata": {},
     "output_type": "execute_result"
    },
    {
     "data": {
      "image/png": "[encoded data removed]",
      "text/plain": [
       "<Figure size 360x360 with 1 Axes>"
      ]
     },
     "metadata": {
      "needs_background": "light"
     },
     "output_type": "display_data"
    }
   ],
   "source": [
    "# TOP CART ELECTRONIC SMARTPHONE \n",
    "sns.catplot(y=\"brand\", x=\"cart\", kind=\"bar\", data = topPurchses.sort_values(by = \"cart\", ascending = False), palette= \"flare\")"
   ]
  },
  {
   "cell_type": "markdown",
   "metadata": {},
   "source": [
    "### The 10  Most Purchaced Brands  Online"
   ]
  },
  {
   "cell_type": "code",
   "execution_count": 24,
   "metadata": {},
   "outputs": [
    {
     "data": {
      "text/plain": [
       "<seaborn.axisgrid.FacetGrid at 0x7fcc6b2bb970>"
      ]
     },
     "execution_count": 24,
     "metadata": {},
     "output_type": "execute_result"
    },
    {
     "data": {
      "image/png": "[encoded data removed]",
      "text/plain": [
       "<Figure size 360x360 with 1 Axes>"
      ]
     },
     "metadata": {
      "needs_background": "light"
     },
     "output_type": "display_data"
    }
   ],
   "source": [
    "# TOP CART ELECTRONIC SMARTPHONE \n",
    "sns.catplot(y=\"brand\", x=\"purchase\", kind=\"bar\", data = topPurchses.sort_values(by = \"purchase\", ascending = False), palette= \"flare\")"
   ]
  },
  {
   "cell_type": "markdown",
   "metadata": {},
   "source": [
    "## Smartphones Hypothesis Testing"
   ]
  },
  {
   "cell_type": "code",
   "execution_count": 69,
   "metadata": {},
   "outputs": [
    {
     "data": {
      "text/plain": [
       "view        103580579\n",
       "cart          5854005\n",
       "purchase      2225222\n",
       "Name: event_type, dtype: int64"
      ]
     },
     "execution_count": 69,
     "metadata": {},
     "output_type": "execute_result"
    }
   ],
   "source": [
    "df[\"event_type\"].value_counts()"
   ]
  },
  {
   "cell_type": "code",
   "execution_count": 84,
   "metadata": {},
   "outputs": [],
   "source": [
    "# CREATE A NEW DATAFRAME WITH THE SMARTPHONES IN ORDER DO THE HYPOTHESIS TESTING \n",
    "new_df = df[df[\"category_code\"] == \"electronics.smartphone\"]"
   ]
  },
  {
   "cell_type": "code",
   "execution_count": 71,
   "metadata": {},
   "outputs": [
    {
     "data": {
      "text/html": [
       "<div>\n",
       "<style scoped>\n",
       "    .dataframe tbody tr th:only-of-type {\n",
       "        vertical-align: middle;\n",
       "    }\n",
       "\n",
       "    .dataframe tbody tr th {\n",
       "        vertical-align: top;\n",
       "    }\n",
       "\n",
       "    .dataframe thead th {\n",
       "        text-align: right;\n",
       "    }\n",
       "</style>\n",
       "<table border=\"1\" class=\"dataframe\">\n",
       "  <thead>\n",
       "    <tr style=\"text-align: right;\">\n",
       "      <th>event_type</th>\n",
       "      <th>brand</th>\n",
       "      <th>cart</th>\n",
       "      <th>purchase</th>\n",
       "      <th>view</th>\n",
       "    </tr>\n",
       "  </thead>\n",
       "  <tbody>\n",
       "    <tr>\n",
       "      <th>0</th>\n",
       "      <td>xiaomi</td>\n",
       "      <td>2176.0</td>\n",
       "      <td>212.0</td>\n",
       "      <td>55499.0</td>\n",
       "    </tr>\n",
       "    <tr>\n",
       "      <th>1</th>\n",
       "      <td>huawei</td>\n",
       "      <td>486.0</td>\n",
       "      <td>98.0</td>\n",
       "      <td>19801.0</td>\n",
       "    </tr>\n",
       "    <tr>\n",
       "      <th>2</th>\n",
       "      <td>samsung</td>\n",
       "      <td>998.0</td>\n",
       "      <td>92.0</td>\n",
       "      <td>154306.0</td>\n",
       "    </tr>\n",
       "    <tr>\n",
       "      <th>3</th>\n",
       "      <td>apple</td>\n",
       "      <td>3176.0</td>\n",
       "      <td>61.0</td>\n",
       "      <td>7343.0</td>\n",
       "    </tr>\n",
       "    <tr>\n",
       "      <th>4</th>\n",
       "      <td>nokia</td>\n",
       "      <td>139.0</td>\n",
       "      <td>47.0</td>\n",
       "      <td>5056.0</td>\n",
       "    </tr>\n",
       "    <tr>\n",
       "      <th>5</th>\n",
       "      <td>sony</td>\n",
       "      <td>139.0</td>\n",
       "      <td>30.0</td>\n",
       "      <td>6230.0</td>\n",
       "    </tr>\n",
       "    <tr>\n",
       "      <th>6</th>\n",
       "      <td>vega</td>\n",
       "      <td>119.0</td>\n",
       "      <td>29.0</td>\n",
       "      <td>2505.0</td>\n",
       "    </tr>\n",
       "    <tr>\n",
       "      <th>7</th>\n",
       "      <td>vivo</td>\n",
       "      <td>74.0</td>\n",
       "      <td>28.0</td>\n",
       "      <td>1938.0</td>\n",
       "    </tr>\n",
       "    <tr>\n",
       "      <th>8</th>\n",
       "      <td>oppo</td>\n",
       "      <td>166.0</td>\n",
       "      <td>24.0</td>\n",
       "      <td>8228.0</td>\n",
       "    </tr>\n",
       "    <tr>\n",
       "      <th>9</th>\n",
       "      <td>prestigio</td>\n",
       "      <td>51.0</td>\n",
       "      <td>19.0</td>\n",
       "      <td>1672.0</td>\n",
       "    </tr>\n",
       "  </tbody>\n",
       "</table>\n",
       "</div>"
      ],
      "text/plain": [
       "event_type      brand    cart  purchase      view\n",
       "0              xiaomi  2176.0     212.0   55499.0\n",
       "1              huawei   486.0      98.0   19801.0\n",
       "2             samsung   998.0      92.0  154306.0\n",
       "3               apple  3176.0      61.0    7343.0\n",
       "4               nokia   139.0      47.0    5056.0\n",
       "5                sony   139.0      30.0    6230.0\n",
       "6                vega   119.0      29.0    2505.0\n",
       "7                vivo    74.0      28.0    1938.0\n",
       "8                oppo   166.0      24.0    8228.0\n",
       "9           prestigio    51.0      19.0    1672.0"
      ]
     },
     "execution_count": 71,
     "metadata": {},
     "output_type": "execute_result"
    }
   ],
   "source": [
    "new_brandEvent = new_df.groupby([\"brand\", \"event_type\"])[\"event_type\"].count().sort_values(ascending = False).unstack()\n",
    "new_topPurchses = new_brandEvent.sort_values(by = \"purchase\", ascending = False).head(10)\n",
    "new_topPurchses.reset_index(inplace=True)\n",
    "new_topPurchses"
   ]
  },
  {
   "cell_type": "markdown",
   "metadata": {},
   "source": [
    "## Anova Hypthesis Testing "
   ]
  },
  {
   "cell_type": "markdown",
   "metadata": {},
   "source": [
    "### Anova Hypothesis Brands: Google, Oppo And Oneplus"
   ]
  },
  {
   "cell_type": "code",
   "execution_count": 82,
   "metadata": {},
   "outputs": [
    {
     "name": "stdout",
     "output_type": "stream",
     "text": [
      "1018 8418 665\n",
      "brand\n",
      "google     859.752701\n",
      "oneplus    683.616271\n",
      "oppo       555.386184\n",
      "Name: price, dtype: float64\n"
     ]
    }
   ],
   "source": [
    "#ANOVA HYPOTHESIS \n",
    "meansToCompare = new_df.groupby(\"brand\")[\"price\"].mean().sort_values(ascending = False).head(3)\n",
    "\n",
    "#H0 -> the means are equal\n",
    "#H1 -> the means are different\n",
    "nGoogle = new_df[new_df[\"brand\"] == \"google\"].shape[0]\n",
    "nOppo = new_df[new_df[\"brand\"] == \"oppo\"].shape[0]\n",
    "nOneplus = new_df[new_df[\"brand\"] == \"oneplus\"].shape[0]\n",
    "print(nGoogle, nOppo, nOneplus)\n",
    "print(meansToCompare)"
   ]
  },
  {
   "cell_type": "code",
   "execution_count": 73,
   "metadata": {},
   "outputs": [
    {
     "data": {
      "text/plain": [
       "F_onewayResult(statistic=489125.5974319881, pvalue=0.0)"
      ]
     },
     "execution_count": 73,
     "metadata": {},
     "output_type": "execute_result"
    }
   ],
   "source": [
    "stats.f_oneway(df['price'][df['brand'] == 'google'],\n",
    "               df['price'][df['brand'] == 'oppo'],\n",
    "               df['price'][df['brand'] == 'oneplus'])\n",
    "#pvalue < 0.05\n",
    "#I REJECT NULL HYPOTHESIS -> there is statistical evidence to assume that the means of these 3 groups are different."
   ]
  },
  {
   "cell_type": "markdown",
   "metadata": {},
   "source": [
    "### Anova Hypothesis Brands: Apple and Honor"
   ]
  },
  {
   "cell_type": "code",
   "execution_count": 74,
   "metadata": {},
   "outputs": [
    {
     "data": {
      "text/plain": [
       "F_onewayResult(statistic=276027.689210027, pvalue=0.0)"
      ]
     },
     "execution_count": 74,
     "metadata": {},
     "output_type": "execute_result"
    }
   ],
   "source": [
    "stats.f_oneway(df['price'][df['brand'] == 'apple'],\n",
    "               df['price'][df['brand'] == 'honor'])"
   ]
  },
  {
   "cell_type": "markdown",
   "metadata": {},
   "source": [
    "### Anova Hypothesis Brands: Blackview and Motorola"
   ]
  },
  {
   "cell_type": "code",
   "execution_count": 75,
   "metadata": {},
   "outputs": [
    {
     "data": {
      "text/plain": [
       "F_onewayResult(statistic=0.003405330536268351, pvalue=0.953467318486459)"
      ]
     },
     "execution_count": 75,
     "metadata": {},
     "output_type": "execute_result"
    }
   ],
   "source": [
    "stats.f_oneway(df['price'][df['brand'] == 'blackview'],\n",
    "               df['price'][df['brand'] == 'motorola'])\n",
    "\n",
    "#I CANNOT REJECT THE NULL HYPHOTHESIS AS THE P-VALUE IS NEAR TO 1 "
   ]
  },
  {
   "cell_type": "markdown",
   "metadata": {},
   "source": [
    "## Linear Regression: Cart & Purchase"
   ]
  },
  {
   "cell_type": "code",
   "execution_count": 76,
   "metadata": {},
   "outputs": [
    {
     "data": {
      "image/png": "[encoded data removed]",
      "text/plain": [
       "<Figure size 360x360 with 1 Axes>"
      ]
     },
     "metadata": {
      "needs_background": "light"
     },
     "output_type": "display_data"
    }
   ],
   "source": [
    "relplotData = new_df.groupby([\"product_id\", \"event_type\"])[\"product_id\"].count().unstack().fillna(0)\n",
    "sns.relplot(x=\"cart\", y=\"purchase\", data=relplotData);"
   ]
  },
  {
   "cell_type": "code",
   "execution_count": 77,
   "metadata": {},
   "outputs": [
    {
     "name": "stderr",
     "output_type": "stream",
     "text": [
      "/opt/anaconda3/lib/python3.8/site-packages/pandas/core/series.py:679: RuntimeWarning: divide by zero encountered in log\n",
      "  result = getattr(ufunc, method)(*inputs, **kwargs)\n",
      "/opt/anaconda3/lib/python3.8/site-packages/pandas/core/series.py:679: RuntimeWarning: invalid value encountered in log\n",
      "  result = getattr(ufunc, method)(*inputs, **kwargs)\n"
     ]
    },
    {
     "data": {
      "image/png": "[encoded data removed]",
      "text/plain": [
       "<Figure size 360x360 with 1 Axes>"
      ]
     },
     "metadata": {
      "needs_background": "light"
     },
     "output_type": "display_data"
    }
   ],
   "source": [
    "# WE CAN CONCLUDE THAT THERE IS A LINEAR REGRESSION BETWEEN ADD THE PRODUCT TO CART AND PURCHASE IT \n",
    "relplotData[\"cart\"] = np.log(relplotData[\"cart\"])\n",
    "relplotData[\"purchase\"] = np.log(relplotData[\"cart\"])\n",
    "sns.relplot(x=\"cart\", y=\"purchase\", data=relplotData);"
   ]
  },
  {
   "cell_type": "code",
   "execution_count": 78,
   "metadata": {},
   "outputs": [
    {
     "data": {
      "text/plain": [
       "NormaltestResult(statistic=array([199.30524201,  99.34805512]), pvalue=array([5.26522084e-44, 2.67204604e-22]))"
      ]
     },
     "execution_count": 78,
     "metadata": {},
     "output_type": "execute_result"
    }
   ],
   "source": [
    "relplotData = new_df.groupby([\"product_id\", \"event_type\"])[\"product_id\"].count().unstack().dropna()\n",
    "#H0 -> cart and purchase follow a linear correlation\n",
    "#H1 -> ... do not follow a linear correlation\n",
    "stats.normaltest(relplotData[[\"cart\", \"purchase\"]])\n",
    "#p-value < 0.05 -> we discard H0"
   ]
  }
 ],
 "metadata": {
  "kernelspec": {
   "display_name": "Python 3",
   "language": "python",
   "name": "python3"
  },
  "language_info": {
   "codemirror_mode": {
    "name": "ipython",
    "version": 3
   },
   "file_extension": ".py",
   "mimetype": "text/x-python",
   "name": "python",
   "nbconvert_exporter": "python",
   "pygments_lexer": "ipython3",
   "version": "3.8.3"
  }
 },
 "nbformat": 4,
 "nbformat_minor": 4
}
